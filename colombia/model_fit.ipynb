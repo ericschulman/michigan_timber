{
 "cells": [
  {
   "cell_type": "code",
   "execution_count": 1,
   "metadata": {},
   "outputs": [],
   "source": [
    "%load_ext autoreload\n",
    "%autoreload 2\n",
    "\n",
    "import numpy as np\n",
    "import pandas as pd\n",
    "import datetime\n",
    "import scipy.stats as stats\n",
    "\n",
    "#graphing\n",
    "import matplotlib.pyplot as plt\n",
    "#stats\n",
    "import statsmodels.api as sm\n",
    "from statsmodels.base.model import GenericLikelihoodModel\n",
    "\n",
    "#import testing\n",
    "import sys\n",
    "sys.path.append(\"../\")\n",
    "import selection_tests"
   ]
  },
  {
   "cell_type": "code",
   "execution_count": 2,
   "metadata": {},
   "outputs": [
    {
     "name": "stdout",
     "output_type": "stream",
     "text": [
      "            vouch0     sex_name      match_i     match_ic     match_i7  \\\n",
      "count  3542.000000  3542.000000  3542.000000  3542.000000  3542.000000   \n",
      "mean      0.585263     0.494918     0.354037     0.338509     0.331451   \n",
      "std       0.492746     0.500045     0.478288     0.473269     0.470801   \n",
      "min       0.000000     0.000000     0.000000     0.000000     0.000000   \n",
      "25%       0.000000     0.000000     0.000000     0.000000     0.000000   \n",
      "50%       1.000000     0.000000     0.000000     0.000000     0.000000   \n",
      "75%       1.000000     1.000000     1.000000     1.000000     1.000000   \n",
      "max       1.000000     1.000000     1.000000     1.000000     1.000000   \n",
      "\n",
      "               age        phone  checkid         math         read  \\\n",
      "count  3542.000000  3542.000000   3542.0  3541.000000  3541.000000   \n",
      "mean     12.670243     0.886222      1.0    14.713037    16.355835   \n",
      "std       1.295708     0.317586      0.0    20.436213    22.758410   \n",
      "min      10.000000     0.000000      1.0     0.000000     0.000000   \n",
      "25%      12.000000     1.000000      1.0     0.000000     0.000000   \n",
      "50%      12.000000     1.000000      1.0     0.000000     0.000000   \n",
      "75%      14.000000     1.000000      1.0    40.000000    44.000000   \n",
      "max      17.000000     1.000000      1.0    62.000000    64.000000   \n",
      "\n",
      "         match_ic7    readcens1   readcens10    mathcens1   mathcens10  \n",
      "count  3542.000000  3541.000000  3541.000000  3541.000000  3541.000000  \n",
      "mean      0.318464    37.304710    42.652214    35.654018    37.639336  \n",
      "std       0.465946     8.005899     4.670519     5.761399     4.551026  \n",
      "min       0.000000    32.000000    40.000000    32.000000    35.000004  \n",
      "25%       0.000000    32.000000    40.000000    32.000000    35.000004  \n",
      "50%       0.000000    32.000000    40.000000    32.000000    35.000004  \n",
      "75%       1.000000    44.000000    44.000000    40.000000    40.000000  \n",
      "max       1.000000    64.000000    64.000000    62.000000    62.000000  \n"
     ]
    }
   ],
   "source": [
    "#need to replicate table 3?\n",
    "school_data = pd.read_stata('aerdata_colombia2.dta')\n",
    "#keep if checkid==1 & age>=9 & age<=25\n",
    "school_data = school_data[(school_data['checkid']==1) &\n",
    "                          (school_data['age']>=9) & (school_data['age']<=25) ]\n",
    "print(school_data.describe())"
   ]
  },
  {
   "cell_type": "code",
   "execution_count": 3,
   "metadata": {},
   "outputs": [
    {
     "name": "stdout",
     "output_type": "stream",
     "text": [
      "47.35569381713867\n",
      "37.304710388183594\n"
     ]
    },
    {
     "data": {
      "image/png": "[encoded data removed]",
      "text/plain": [
       "<Figure size 432x288 with 1 Axes>"
      ]
     },
     "metadata": {
      "needs_background": "light"
     },
     "output_type": "display_data"
    }
   ],
   "source": [
    "plt.hist(school_data['read'][school_data['read']>0])\n",
    "\n",
    "cutoff = stats.mode(school_data['readcens1'])[0][0]\n",
    "plt.hist(school_data['readcens1'][school_data['readcens1']>cutoff])\n",
    "\n",
    "cutoff = stats.mode(school_data['readcens10'])[0][0]\n",
    "plt.hist(school_data['readcens10'][school_data['readcens10']>cutoff])\n",
    "\n",
    "print(school_data['read'][school_data['read']>0].mean())\n",
    "print(school_data['readcens1'].mean())"
   ]
  },
  {
   "cell_type": "code",
   "execution_count": 4,
   "metadata": {},
   "outputs": [
    {
     "name": "stdout",
     "output_type": "stream",
     "text": [
      "                            OLS Regression Results                            \n",
      "==============================================================================\n",
      "Dep. Variable:             readcens10   R-squared:                       0.022\n",
      "Model:                            OLS   Adj. R-squared:                  0.020\n",
      "Method:                 Least Squares   F-statistic:                     8.256\n",
      "Date:                Tue, 06 Jul 2021   Prob (F-statistic):           1.96e-05\n",
      "Time:                        16:35:43   Log-Likelihood:                -3156.4\n",
      "No. Observations:                1091   AIC:                             6321.\n",
      "Df Residuals:                    1087   BIC:                             6341.\n",
      "Df Model:                           3                                         \n",
      "Covariance Type:            nonrobust                                         \n",
      "==============================================================================\n",
      "                 coef    std err          t      P>|t|      [0.025      0.975]\n",
      "------------------------------------------------------------------------------\n",
      "const         56.4678      2.045     27.611      0.000      52.455      60.481\n",
      "vouch0         0.5558      0.276      2.012      0.044       0.014       1.098\n",
      "age           -0.7131      0.172     -4.152      0.000      -1.050      -0.376\n",
      "sex_name       0.5444      0.266      2.045      0.041       0.022       1.067\n",
      "==============================================================================\n",
      "Omnibus:                       31.916   Durbin-Watson:                   2.020\n",
      "Prob(Omnibus):                  0.000   Jarque-Bera (JB):               34.132\n",
      "Skew:                           0.427   Prob(JB):                     3.88e-08\n",
      "Kurtosis:                       2.850   Cond. No.                         185.\n",
      "==============================================================================\n",
      "\n",
      "Warnings:\n",
      "[1] Standard Errors assume that the covariance matrix of the errors is correctly specified.\n"
     ]
    },
    {
     "name": "stderr",
     "output_type": "stream",
     "text": [
      "/home/erichschulman/anaconda3/lib/python3.7/site-packages/numpy/core/fromnumeric.py:2389: FutureWarning: Method .ptp is deprecated and will be removed in a future version. Use numpy.ptp instead.\n",
      "  return ptp(axis=axis, out=out, **kwargs)\n"
     ]
    }
   ],
   "source": [
    "# Fit the model with ols = True\n",
    "x_names =['vouch0', 'age', 'sex_name'] \n",
    "y_name = 'readcens10'\n",
    "#different datasets\n",
    "cutoff = stats.mode(school_data[y_name])[0][0]\n",
    "school_nozeros = school_data[ (school_data[y_name]> cutoff) ]\n",
    "\n",
    "\n",
    "#setup x/y for missing data models\n",
    "x = sm.add_constant(school_nozeros[x_names].copy())\n",
    "y = school_nozeros[y_name]\n",
    "\n",
    "ols_model = sm.OLS(y,x).fit()\n",
    "print(ols_model.summary())\n",
    "\n",
    "#setup x/y for missing data models\n",
    "x = school_data[x_names].copy()\n",
    "y = school_data[y_name]\n",
    "\n",
    "x = sm.add_constant(x[~np.isnan(y)])\n",
    "y = y[~np.isnan(y)]"
   ]
  },
  {
   "cell_type": "code",
   "execution_count": 5,
   "metadata": {},
   "outputs": [
    {
     "name": "stdout",
     "output_type": "stream",
     "text": [
      "Optimization terminated successfully.\n",
      "         Current function value: 1.146240\n",
      "         Iterations: 102\n",
      "         Function evaluations: 173\n",
      "\\begin{center}\n",
      "\\begin{tabular}{lclc}\n",
      "\\toprule\n",
      "\\textbf{Dep. Variable:}    &     readcens10     & \\textbf{  Log-Likelihood:    } &   -4058.8   \\\\\n",
      "\\textbf{Model:}            &       Tobit        & \\textbf{  AIC:               } &     8126.   \\\\\n",
      "\\textbf{Method:}           & Maximum Likelihood & \\textbf{  BIC:               } &     8150.   \\\\\n",
      "\\textbf{Date:}             &  Tue, 06 Jul 2021  & \\textbf{                     } &             \\\\\n",
      "\\textbf{Time:}             &      16:35:44      & \\textbf{                     } &             \\\\\n",
      "\\textbf{No. Observations:} &         3541       & \\textbf{                     } &             \\\\\n",
      "\\textbf{Df Residuals:}     &         3537       & \\textbf{                     } &             \\\\\n",
      "\\bottomrule\n",
      "\\end{tabular}\n",
      "\\begin{tabular}{lcccccc}\n",
      "                   & \\textbf{coef} & \\textbf{std err} & \\textbf{z} & \\textbf{P$>$$|$z$|$} & \\textbf{[0.025} & \\textbf{0.975]}  \\\\\n",
      "\\midrule\n",
      "\\textbf{const}     &      56.4678  &        2.041     &    27.662  &         0.000        &       52.467    &       60.469     \\\\\n",
      "\\textbf{vouch0}    &       0.5558  &        0.276     &     2.016  &         0.044        &        0.015    &        1.096     \\\\\n",
      "\\textbf{age}       &      -0.7131  &        0.171     &    -4.160  &         0.000        &       -1.049    &       -0.377     \\\\\n",
      "\\textbf{sex\\_name} &       0.5444  &        0.266     &     2.049  &         0.040        &        0.024    &        1.065     \\\\\n",
      "\\textbf{var}       &      19.0766  &        0.817     &    23.356  &         0.000        &       17.476    &       20.678     \\\\\n",
      "\\bottomrule\n",
      "\\end{tabular}\n",
      "%\\caption{OLS CC}\n",
      "\\end{center}\n"
     ]
    }
   ],
   "source": [
    "tobit_model = selection_tests.Tobit(y,x, cc=True).fit()\n",
    "\n",
    "#why is there randomly a missing observation?\n",
    "print(tobit_model.summary(title='OLS CC').as_latex())\n",
    "\n"
   ]
  },
  {
   "cell_type": "code",
   "execution_count": 6,
   "metadata": {},
   "outputs": [
    {
     "name": "stdout",
     "output_type": "stream",
     "text": [
      "Optimization terminated successfully.\n",
      "         Current function value: 1.442082\n",
      "         Iterations: 477\n",
      "         Function evaluations: 763\n",
      "2.0505031745094633\n",
      "----\n",
      "2.0579013959981634\n",
      "----\n",
      "                                Tobit Results                                 \n",
      "==============================================================================\n",
      "Dep. Variable:             readcens10   Log-Likelihood:                -5106.4\n",
      "Model:                          Tobit   AIC:                         1.022e+04\n",
      "Method:            Maximum Likelihood   BIC:                         1.025e+04\n",
      "Date:                Tue, 06 Jul 2021                                         \n",
      "Time:                        16:35:45                                         \n",
      "No. Observations:                3541                                         \n",
      "Df Residuals:                    3537                                         \n",
      "Df Model:                           3                                         \n",
      "==============================================================================\n",
      "                 coef    std err          z      P>|z|      [0.025      0.975]\n",
      "------------------------------------------------------------------------------\n",
      "const        102.7723      2.869     35.820      0.000      97.149     108.396\n",
      "vouch0         2.0588      0.456      4.517      0.000       1.166       2.952\n",
      "age           -5.5007      0.241    -22.871      0.000      -5.972      -5.029\n",
      "sex_name      -0.7178      0.443     -1.620      0.105      -1.586       0.151\n",
      "var          104.3073      5.171     20.172      0.000      94.173     114.442\n",
      "==============================================================================\n",
      "\n",
      "\n",
      "\\begin{center}\n",
      "\\begin{tabular}{lclc}\n",
      "\\toprule\n",
      "\\textbf{Dep. Variable:}    &     readcens10     & \\textbf{  Log-Likelihood:    } &   -5106.4   \\\\\n",
      "\\textbf{Model:}            &       Tobit        & \\textbf{  AIC:               } & 1.022e+04   \\\\\n",
      "\\textbf{Method:}           & Maximum Likelihood & \\textbf{  BIC:               } & 1.025e+04   \\\\\n",
      "\\textbf{Date:}             &  Tue, 06 Jul 2021  & \\textbf{                     } &             \\\\\n",
      "\\textbf{Time:}             &      16:35:45      & \\textbf{                     } &             \\\\\n",
      "\\textbf{No. Observations:} &         3541       & \\textbf{                     } &             \\\\\n",
      "\\textbf{Df Residuals:}     &         3537       & \\textbf{                     } &             \\\\\n",
      "\\bottomrule\n",
      "\\end{tabular}\n",
      "\\begin{tabular}{lcccccc}\n",
      "                   & \\textbf{coef} & \\textbf{std err} & \\textbf{z} & \\textbf{P$>$$|$z$|$} & \\textbf{[0.025} & \\textbf{0.975]}  \\\\\n",
      "\\midrule\n",
      "\\textbf{const}     &     102.7723  &        2.869     &    35.820  &         0.000        &       97.149    &      108.396     \\\\\n",
      "\\textbf{vouch0}    &       2.0588  &        0.456     &     4.517  &         0.000        &        1.166    &        2.952     \\\\\n",
      "\\textbf{age}       &      -5.5007  &        0.241     &   -22.871  &         0.000        &       -5.972    &       -5.029     \\\\\n",
      "\\textbf{sex\\_name} &      -0.7178  &        0.443     &    -1.620  &         0.105        &       -1.586    &        0.151     \\\\\n",
      "\\textbf{var}       &     104.3073  &        5.171     &    20.172  &         0.000        &       94.173    &      114.442     \\\\\n",
      "\\bottomrule\n",
      "\\end{tabular}\n",
      "%\\caption{Tobit Results}\n",
      "\\end{center}\n"
     ]
    }
   ],
   "source": [
    "# Fit the model with ols = False\n",
    "tobit_model = selection_tests.Tobit(y,x).fit()\n",
    "\n",
    "def marginal_effect(params,ys,xs):\n",
    "    cutoff = stats.mode(ys)[0][0]\n",
    "    mux =  np.matmul(np.array(xs),params[0:-1]) \n",
    "    return (stats.norm.cdf(mux/np.sqrt(np.abs(params[-1])))*params[1]).mean()\n",
    "\n",
    "def avg_effect(params,ys,xs):\n",
    "    mux =  np.matmul(np.array(xs.mean(axis=0)),params[0:-1]) \n",
    "    return (stats.norm.cdf(mux/np.sqrt(np.abs(params[-1])))*params[1]).mean()\n",
    "\n",
    "\n",
    "print(marginal_effect(tobit_model.params,y,x))\n",
    "print('----')\n",
    "print(avg_effect(tobit_model.params,y,x))\n",
    "print('----')\n",
    "\n",
    "print(tobit_model.summary())\n",
    "print('\\n')\n",
    "print(tobit_model.summary().as_latex())"
   ]
  },
  {
   "cell_type": "code",
   "execution_count": 7,
   "metadata": {},
   "outputs": [
    {
     "name": "stdout",
     "output_type": "stream",
     "text": [
      "regular: test, llr, omega ----\n",
      "26.093723918275174 1047.5741746910742 0.6746612350320005\n",
      "---- \n"
     ]
    },
    {
     "data": {
      "text/plain": [
       "(1, 26.093723918275174)"
      ]
     },
     "execution_count": 7,
     "metadata": {},
     "output_type": "execute_result"
    }
   ],
   "source": [
    "# Fit the regular test model\n",
    "regular_test_model = selection_tests.regular_test(y,x,selection_tests.setup_test)\n",
    "regular_test_model"
   ]
  },
  {
   "cell_type": "code",
   "execution_count": 8,
   "metadata": {},
   "outputs": [
    {
     "name": "stdout",
     "output_type": "stream",
     "text": [
      "V ----\n",
      "-0.2502605718067898\n",
      "----\n",
      "---- bootstrap: llr, omega ----\n",
      "1047.3239141192673 40.14659532583573\n",
      "----\n"
     ]
    },
    {
     "data": {
      "text/plain": [
       "(1, 24.251105964672732, 28.082380933364405)"
      ]
     },
     "execution_count": 8,
     "metadata": {},
     "output_type": "execute_result"
    }
   ],
   "source": [
    "# Fit the bootstrap test model\n",
    "bootstrap_test_model = selection_tests.bootstrap_test(y,x,selection_tests.setup_test, trials=100)\n",
    "bootstrap_test_model"
   ]
  },
  {
   "cell_type": "code",
   "execution_count": null,
   "metadata": {},
   "outputs": [],
   "source": []
  },
  {
   "cell_type": "code",
   "execution_count": null,
   "metadata": {},
   "outputs": [],
   "source": []
  }
 ],
 "metadata": {
  "kernelspec": {
   "display_name": "Python 3",
   "language": "python",
   "name": "python3"
  },
  "language_info": {
   "codemirror_mode": {
    "name": "ipython",
    "version": 3
   },
   "file_extension": ".py",
   "mimetype": "text/x-python",
   "name": "python",
   "nbconvert_exporter": "python",
   "pygments_lexer": "ipython3",
   "version": "3.7.3"
  }
 },
 "nbformat": 4,
 "nbformat_minor": 2
}
