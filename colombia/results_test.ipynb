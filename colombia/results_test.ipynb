{
 "cells": [
  {
   "cell_type": "code",
   "execution_count": 1,
   "metadata": {},
   "outputs": [],
   "source": [
    "%load_ext autoreload\n",
    "%autoreload 2\n",
    "\n",
    "import numpy as np\n",
    "import pandas as pd\n",
    "import datetime\n",
    "import scipy.stats as stats\n",
    "\n",
    "#graphing\n",
    "import matplotlib.pyplot as plt\n",
    "#stats\n",
    "import statsmodels.api as sm\n",
    "from statsmodels.base.model import GenericLikelihoodModel\n",
    "\n",
    "#import testing\n",
    "import sys\n",
    "sys.path.append(\"../\")\n",
    "import selection_tests"
   ]
  },
  {
   "cell_type": "code",
   "execution_count": 2,
   "metadata": {},
   "outputs": [
    {
     "name": "stdout",
     "output_type": "stream",
     "text": [
      "            vouch0     sex_name      match_i     match_ic     match_i7  \\\n",
      "count  3542.000000  3542.000000  3542.000000  3542.000000  3542.000000   \n",
      "mean      0.585263     0.494918     0.354037     0.338509     0.331451   \n",
      "std       0.492746     0.500045     0.478288     0.473269     0.470801   \n",
      "min       0.000000     0.000000     0.000000     0.000000     0.000000   \n",
      "25%       0.000000     0.000000     0.000000     0.000000     0.000000   \n",
      "50%       1.000000     0.000000     0.000000     0.000000     0.000000   \n",
      "75%       1.000000     1.000000     1.000000     1.000000     1.000000   \n",
      "max       1.000000     1.000000     1.000000     1.000000     1.000000   \n",
      "\n",
      "               age        phone  checkid         math         read  \\\n",
      "count  3542.000000  3542.000000   3542.0  3541.000000  3541.000000   \n",
      "mean     12.670243     0.886222      1.0    14.713037    16.355835   \n",
      "std       1.295708     0.317586      0.0    20.436213    22.758410   \n",
      "min      10.000000     0.000000      1.0     0.000000     0.000000   \n",
      "25%      12.000000     1.000000      1.0     0.000000     0.000000   \n",
      "50%      12.000000     1.000000      1.0     0.000000     0.000000   \n",
      "75%      14.000000     1.000000      1.0    40.000000    44.000000   \n",
      "max      17.000000     1.000000      1.0    62.000000    64.000000   \n",
      "\n",
      "         match_ic7    readcens1   readcens10    mathcens1   mathcens10  \n",
      "count  3542.000000  3541.000000  3541.000000  3541.000000  3541.000000  \n",
      "mean      0.318464    37.304710    42.652214    35.654018    37.639336  \n",
      "std       0.465946     8.005899     4.670519     5.761399     4.551026  \n",
      "min       0.000000    32.000000    40.000000    32.000000    35.000004  \n",
      "25%       0.000000    32.000000    40.000000    32.000000    35.000004  \n",
      "50%       0.000000    32.000000    40.000000    32.000000    35.000004  \n",
      "75%       1.000000    44.000000    44.000000    40.000000    40.000000  \n",
      "max       1.000000    64.000000    64.000000    62.000000    62.000000  \n"
     ]
    }
   ],
   "source": [
    "#need to replicate table 3?\n",
    "school_data = pd.read_stata('aerdata_colombia2.dta')\n",
    "#keep if checkid==1 & age>=9 & age<=25\n",
    "school_data = school_data[(school_data['checkid']==1) &\n",
    "                          (school_data['age']>=9) & (school_data['age']<=25) ]\n",
    "print(school_data.describe())"
   ]
  },
  {
   "cell_type": "code",
   "execution_count": 3,
   "metadata": {},
   "outputs": [
    {
     "name": "stdout",
     "output_type": "stream",
     "text": [
      "0.0\n",
      "0.0\n"
     ]
    }
   ],
   "source": [
    "# Fit the model with ols = True\n",
    "x_names =['vouch0', 'age', 'sex_name'] \n",
    "y_name1 = 'read'\n",
    "y_name2 = 'math'\n",
    "\n",
    "#setup x/y for missing data models\n",
    "x = school_data[x_names].copy()\n",
    "y1 = school_data[y_name1]\n",
    "y2 = school_data[y_name2]\n",
    "\n",
    "print(stats.mode(school_data[y_name1])[0][0])\n",
    "print(stats.mode(school_data[y_name2])[0][0])\n",
    "\n",
    "x = sm.add_constant(x[~np.isnan(y1)])\n",
    "y1 = y1[~np.isnan(y1)]\n",
    "y2 = y2[~np.isnan(y2)]"
   ]
  },
  {
   "cell_type": "code",
   "execution_count": 4,
   "metadata": {},
   "outputs": [
    {
     "name": "stdout",
     "output_type": "stream",
     "text": [
      "Optimization terminated successfully.\n",
      "         Current function value: 1.356813\n",
      "         Iterations: 114\n",
      "         Function evaluations: 189\n",
      "Optimization terminated successfully.\n",
      "         Current function value: 1.315860\n",
      "         Iterations: 102\n",
      "         Function evaluations: 172\n",
      "                                    OLS CC                                    \n",
      "==============================================================================\n",
      "Dep. Variable:                   read   Log-Likelihood:                -4804.5\n",
      "Model:                          Tobit   AIC:                             9617.\n",
      "Method:            Maximum Likelihood   BIC:                             9642.\n",
      "Date:                Tue, 03 Aug 2021                                         \n",
      "Time:                        08:58:49                                         \n",
      "No. Observations:                3541                                         \n",
      "Df Residuals:                    3537                                         \n",
      "Df Model:                           3                                         \n",
      "==============================================================================\n",
      "                 coef    std err          z      P>|z|      [0.025      0.975]\n",
      "------------------------------------------------------------------------------\n",
      "const         58.3987      2.387     24.461      0.000      53.719      63.078\n",
      "vouch0         0.6966      0.328      2.125      0.034       0.054       1.339\n",
      "age           -0.9938      0.200     -4.976      0.000      -1.385      -0.602\n",
      "sex_name       0.7330      0.317      2.314      0.021       0.112       1.354\n",
      "var           30.3520      1.227     24.729      0.000      27.946      32.758\n",
      "==============================================================================\n",
      "                                    OLS CC                                    \n",
      "==============================================================================\n",
      "Dep. Variable:                   math   Log-Likelihood:                -4659.5\n",
      "Model:                          Tobit   AIC:                             9327.\n",
      "Method:            Maximum Likelihood   BIC:                             9352.\n",
      "Date:                Tue, 03 Aug 2021                                         \n",
      "Time:                        08:58:49                                         \n",
      "No. Observations:                3541                                         \n",
      "Df Residuals:                    3537                                         \n",
      "Df Model:                           3                                         \n",
      "==============================================================================\n",
      "                 coef    std err          z      P>|z|      [0.025      0.975]\n",
      "------------------------------------------------------------------------------\n",
      "const         46.4380      2.108     22.028      0.000      42.306      50.570\n",
      "vouch0         0.4011      0.289      1.386      0.166      -0.166       0.968\n",
      "age           -0.3663      0.176     -2.077      0.038      -0.712      -0.021\n",
      "sex_name       0.4254      0.280      1.522      0.128      -0.122       0.973\n",
      "var           23.6656      0.956     24.749      0.000      21.791      25.540\n",
      "==============================================================================\n"
     ]
    }
   ],
   "source": [
    "cc_model1 = selection_tests.Tobit(y1,x, cc=True).fit()\n",
    "cc_model2 = selection_tests.Tobit(y2,x, cc=True).fit()\n",
    "#why is there randomly a missing observation?\n",
    "print(cc_model1.summary(title='OLS CC'))\n",
    "print(cc_model2.summary(title='OLS CC'))"
   ]
  },
  {
   "cell_type": "code",
   "execution_count": 5,
   "metadata": {},
   "outputs": [
    {
     "name": "stdout",
     "output_type": "stream",
     "text": [
      "Warning: Maximum number of iterations has been exceeded.\n"
     ]
    },
    {
     "name": "stderr",
     "output_type": "stream",
     "text": [
      "/home/erichschulman/anaconda3/lib/python3.8/site-packages/statsmodels/base/model.py:566: ConvergenceWarning: Maximum Likelihood optimization failed to converge. Check mle_retvals\n",
      "  warnings.warn(\"Maximum Likelihood optimization failed to \"\n"
     ]
    },
    {
     "name": "stdout",
     "output_type": "stream",
     "text": [
      "Warning: Maximum number of iterations has been exceeded.\n",
      "                                Tobit Results                                 \n",
      "==============================================================================\n",
      "Dep. Variable:                   read   Log-Likelihood:                -7519.5\n",
      "Model:                          Tobit   AIC:                         1.505e+04\n",
      "Method:            Maximum Likelihood   BIC:                         1.507e+04\n",
      "Date:                Tue, 03 Aug 2021                                         \n",
      "Time:                        08:58:51                                         \n",
      "No. Observations:                3541                                         \n",
      "Df Residuals:                    3537                                         \n",
      "Df Model:                           3                                         \n",
      "==============================================================================\n",
      "                 coef    std err          z      P>|z|      [0.025      0.975]\n",
      "------------------------------------------------------------------------------\n",
      "const        304.9482     12.413     24.568      0.000     280.620     329.276\n",
      "vouch0         8.8082      1.995      4.415      0.000       4.898      12.719\n",
      "age          -25.7274      1.033    -24.902      0.000     -27.752     -23.702\n",
      "sex_name      -5.7650      1.946     -2.963      0.003      -9.578      -1.952\n",
      "var         2161.5857    102.954     20.996      0.000    1959.799    2363.373\n",
      "==============================================================================\n",
      "                                Tobit Results                                 \n",
      "==============================================================================\n",
      "Dep. Variable:                   math   Log-Likelihood:                -7402.7\n",
      "Model:                          Tobit   AIC:                         1.481e+04\n",
      "Method:            Maximum Likelihood   BIC:                         1.484e+04\n",
      "Date:                Tue, 03 Aug 2021                                         \n",
      "Time:                        08:58:51                                         \n",
      "No. Observations:                3541                                         \n",
      "Df Residuals:                    3537                                         \n",
      "Df Model:                           3                                         \n",
      "==============================================================================\n",
      "                 coef    std err          z      P>|z|      [0.025      0.975]\n",
      "------------------------------------------------------------------------------\n",
      "const        282.3101     11.564     24.414      0.000     259.646     304.974\n",
      "vouch0         6.8853      1.821      3.780      0.000       3.316      10.455\n",
      "age          -23.7952      0.965    -24.669      0.000     -25.686     -21.905\n",
      "sex_name      -3.9771      1.778     -2.237      0.025      -7.462      -0.493\n",
      "var         1809.7156     89.002     20.334      0.000    1635.276    1984.155\n",
      "==============================================================================\n"
     ]
    },
    {
     "name": "stderr",
     "output_type": "stream",
     "text": [
      "/home/erichschulman/anaconda3/lib/python3.8/site-packages/statsmodels/base/model.py:566: ConvergenceWarning: Maximum Likelihood optimization failed to converge. Check mle_retvals\n",
      "  warnings.warn(\"Maximum Likelihood optimization failed to \"\n"
     ]
    }
   ],
   "source": [
    "# Fit the model with ols = False\n",
    "tobit_model1 = selection_tests.Tobit(y1,x).fit()\n",
    "tobit_model2 = selection_tests.Tobit(y2,x).fit()\n",
    "print(tobit_model1.summary())\n",
    "print(tobit_model2.summary())"
   ]
  },
  {
   "cell_type": "code",
   "execution_count": 11,
   "metadata": {
    "scrolled": false
   },
   "outputs": [
    {
     "name": "stderr",
     "output_type": "stream",
     "text": [
      "/home/erichschulman/anaconda3/lib/python3.8/site-packages/statsmodels/base/model.py:566: ConvergenceWarning: Maximum Likelihood optimization failed to converge. Check mle_retvals\n",
      "  warnings.warn(\"Maximum Likelihood optimization failed to \"\n"
     ]
    },
    {
     "name": "stdout",
     "output_type": "stream",
     "text": [
      "V ----\n",
      "-0.397250436876799\n",
      "----\n"
     ]
    },
    {
     "name": "stderr",
     "output_type": "stream",
     "text": [
      "/home/erichschulman/anaconda3/lib/python3.8/site-packages/statsmodels/base/model.py:566: ConvergenceWarning: Maximum Likelihood optimization failed to converge. Check mle_retvals\n",
      "  warnings.warn(\"Maximum Likelihood optimization failed to \"\n"
     ]
    },
    {
     "name": "stdout",
     "output_type": "stream",
     "text": [
      "V ----\n",
      "-0.397250436876799\n",
      "----\n"
     ]
    },
    {
     "name": "stderr",
     "output_type": "stream",
     "text": [
      "/home/erichschulman/anaconda3/lib/python3.8/site-packages/statsmodels/base/model.py:566: ConvergenceWarning: Maximum Likelihood optimization failed to converge. Check mle_retvals\n",
      "  warnings.warn(\"Maximum Likelihood optimization failed to \"\n"
     ]
    },
    {
     "name": "stdout",
     "output_type": "stream",
     "text": [
      "V ----\n",
      "-0.397250436876799\n",
      "----\n"
     ]
    },
    {
     "name": "stderr",
     "output_type": "stream",
     "text": [
      "/home/erichschulman/anaconda3/lib/python3.8/site-packages/statsmodels/base/model.py:566: ConvergenceWarning: Maximum Likelihood optimization failed to converge. Check mle_retvals\n",
      "  warnings.warn(\"Maximum Likelihood optimization failed to \"\n"
     ]
    },
    {
     "name": "stdout",
     "output_type": "stream",
     "text": [
      "regular: test, llr, omega ----\n",
      "37.58247908184831 2714.9893142713527 1.214002935368811\n",
      "---- \n"
     ]
    },
    {
     "name": "stderr",
     "output_type": "stream",
     "text": [
      "/home/erichschulman/anaconda3/lib/python3.8/site-packages/statsmodels/base/model.py:566: ConvergenceWarning: Maximum Likelihood optimization failed to converge. Check mle_retvals\n",
      "  warnings.warn(\"Maximum Likelihood optimization failed to \"\n",
      "/home/erichschulman/anaconda3/lib/python3.8/site-packages/statsmodels/base/model.py:566: ConvergenceWarning: Maximum Likelihood optimization failed to converge. Check mle_retvals\n",
      "  warnings.warn(\"Maximum Likelihood optimization failed to \"\n",
      "/home/erichschulman/anaconda3/lib/python3.8/site-packages/statsmodels/base/model.py:566: ConvergenceWarning: Maximum Likelihood optimization failed to converge. Check mle_retvals\n",
      "  warnings.warn(\"Maximum Likelihood optimization failed to \"\n"
     ]
    },
    {
     "name": "stdout",
     "output_type": "stream",
     "text": [
      "\\begin{center}\n",
      "\\begin{tabular}{ccccc}\n",
      "\\toprule\n",
      "\\textbf{Version} & \\textbf{Result} & \\textbf{90 \\% CI} & \\textbf{95 \\% CI} & \\textbf{99 \\% CI} \\\\ \\midrule\n",
      "Shi (2015) & H1 & [35.910, 39.244] & [35.335, 39.819] & [34.489, 40.665] \\\\\n",
      "Classical & H1 & [35.937, 39.227] & [35.623, 39.541] & [35.006, 40.158] \\\\\n",
      "Bootstrap & H1 & [36.235, 38.740] & [36.331, 38.939] & [35.301, 39.300] \\\\\n",
      "\\bottomrule\n",
      "\\end{tabular}\n",
      "\\end{center}\n",
      "None\n"
     ]
    },
    {
     "name": "stderr",
     "output_type": "stream",
     "text": [
      "/home/erichschulman/anaconda3/lib/python3.8/site-packages/statsmodels/base/model.py:566: ConvergenceWarning: Maximum Likelihood optimization failed to converge. Check mle_retvals\n",
      "  warnings.warn(\"Maximum Likelihood optimization failed to \"\n"
     ]
    },
    {
     "name": "stdout",
     "output_type": "stream",
     "text": [
      "V ----\n",
      "-0.46679698357089666\n",
      "----\n"
     ]
    },
    {
     "name": "stderr",
     "output_type": "stream",
     "text": [
      "/home/erichschulman/anaconda3/lib/python3.8/site-packages/statsmodels/base/model.py:566: ConvergenceWarning: Maximum Likelihood optimization failed to converge. Check mle_retvals\n",
      "  warnings.warn(\"Maximum Likelihood optimization failed to \"\n"
     ]
    },
    {
     "name": "stdout",
     "output_type": "stream",
     "text": [
      "V ----\n",
      "-0.46679698357089666\n",
      "----\n"
     ]
    },
    {
     "name": "stderr",
     "output_type": "stream",
     "text": [
      "/home/erichschulman/anaconda3/lib/python3.8/site-packages/statsmodels/base/model.py:566: ConvergenceWarning: Maximum Likelihood optimization failed to converge. Check mle_retvals\n",
      "  warnings.warn(\"Maximum Likelihood optimization failed to \"\n"
     ]
    },
    {
     "name": "stdout",
     "output_type": "stream",
     "text": [
      "V ----\n",
      "-0.46679698357089666\n",
      "----\n"
     ]
    },
    {
     "name": "stderr",
     "output_type": "stream",
     "text": [
      "/home/erichschulman/anaconda3/lib/python3.8/site-packages/statsmodels/base/model.py:566: ConvergenceWarning: Maximum Likelihood optimization failed to converge. Check mle_retvals\n",
      "  warnings.warn(\"Maximum Likelihood optimization failed to \"\n"
     ]
    },
    {
     "name": "stdout",
     "output_type": "stream",
     "text": [
      "regular: test, llr, omega ----\n",
      "37.50744805499365 2743.2217625966523 1.2290808090512202\n",
      "---- \n"
     ]
    },
    {
     "name": "stderr",
     "output_type": "stream",
     "text": [
      "/home/erichschulman/anaconda3/lib/python3.8/site-packages/statsmodels/base/model.py:566: ConvergenceWarning: Maximum Likelihood optimization failed to converge. Check mle_retvals\n",
      "  warnings.warn(\"Maximum Likelihood optimization failed to \"\n",
      "/home/erichschulman/anaconda3/lib/python3.8/site-packages/statsmodels/base/model.py:566: ConvergenceWarning: Maximum Likelihood optimization failed to converge. Check mle_retvals\n",
      "  warnings.warn(\"Maximum Likelihood optimization failed to \"\n"
     ]
    },
    {
     "name": "stdout",
     "output_type": "stream",
     "text": [
      "\\begin{center}\n",
      "\\begin{tabular}{ccccc}\n",
      "\\toprule\n",
      "\\textbf{Version} & \\textbf{Result} & \\textbf{90 \\% CI} & \\textbf{95 \\% CI} & \\textbf{99 \\% CI} \\\\ \\midrule\n",
      "Shi (2015) & H1 & [35.819, 39.183] & [35.541, 39.462] & [34.794, 40.208] \\\\\n",
      "Classical & H1 & [35.862, 39.152] & [35.548, 39.466] & [34.931, 40.083] \\\\\n",
      "Bootstrap & H1 & [36.491, 38.763] & [35.732, 39.064] & [35.399, 40.145] \\\\\n",
      "\\bottomrule\n",
      "\\end{tabular}\n",
      "\\end{center}\n",
      "None\n"
     ]
    },
    {
     "name": "stderr",
     "output_type": "stream",
     "text": [
      "/home/erichschulman/anaconda3/lib/python3.8/site-packages/statsmodels/base/model.py:566: ConvergenceWarning: Maximum Likelihood optimization failed to converge. Check mle_retvals\n",
      "  warnings.warn(\"Maximum Likelihood optimization failed to \"\n"
     ]
    }
   ],
   "source": [
    "print(selection_tests.test_table(y1,x,selection_tests.setup_test))\n",
    "print(selection_tests.test_table(y2,x,selection_tests.setup_test))"
   ]
  },
  {
   "cell_type": "code",
   "execution_count": null,
   "metadata": {},
   "outputs": [],
   "source": []
  },
  {
   "cell_type": "code",
   "execution_count": null,
   "metadata": {},
   "outputs": [],
   "source": []
  },
  {
   "cell_type": "code",
   "execution_count": null,
   "metadata": {},
   "outputs": [],
   "source": []
  }
 ],
 "metadata": {
  "kernelspec": {
   "display_name": "Python 3",
   "language": "python",
   "name": "python3"
  },
  "language_info": {
   "codemirror_mode": {
    "name": "ipython",
    "version": 3
   },
   "file_extension": ".py",
   "mimetype": "text/x-python",
   "name": "python",
   "nbconvert_exporter": "python",
   "pygments_lexer": "ipython3",
   "version": "3.8.8"
  }
 },
 "nbformat": 4,
 "nbformat_minor": 2
}
