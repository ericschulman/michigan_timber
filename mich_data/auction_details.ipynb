{
 "cells": [
  {
   "cell_type": "code",
   "execution_count": 1,
   "metadata": {},
   "outputs": [],
   "source": [
    "%load_ext autoreload\n",
    "%autoreload 2\n",
    "\n",
    "import numpy as np\n",
    "import pandas as pd\n",
    "\n",
    "#import testing\n",
    "import sys\n",
    "sys.path.append(\"../\")\n",
    "import selection_tests"
   ]
  },
  {
   "cell_type": "code",
   "execution_count": 2,
   "metadata": {},
   "outputs": [],
   "source": [
    "mich_bids = pd.read_csv('mich_bids.csv',index_col=0)\n",
    "# filtering data for Baldwin Office\n",
    "baldwin_office = pd.DataFrame(mich_bids[mich_bids['Bid Open Location'] == \"Baldwin Office\"])"
   ]
  },
  {
   "cell_type": "code",
   "execution_count": 11,
   "metadata": {},
   "outputs": [
    {
     "name": "stdout",
     "output_type": "stream",
     "text": [
      "                                            Appraised Value Per Unit  \\\n",
      "Sale #       Species        Units Product                              \n",
      "63-001-04-01 B. T. Aspen    Cords Pulpwood                       0.0   \n",
      "                            MBF   Sawlogs                        0.0   \n",
      "             Mixed Oak      Cords Pulpwood                       0.0   \n",
      "                            MBF   Sawlogs                        0.0   \n",
      "             Q. Aspen       Cords Pulpwood                       0.0   \n",
      "...                                                              ...   \n",
      "63-911-12-01 B. T. Aspen    MBF   Sawlogs                        0.0   \n",
      "             Mixed Hardwood Cords Pulpwood                       0.0   \n",
      "                            MBF   Sawlogs                        0.0   \n",
      "             Red Maple      Cords Pulpwood                       0.0   \n",
      "                            MBF   Sawlogs                        0.0   \n",
      "\n",
      "                                            Bid Per Unit  Estimated Volume  \n",
      "Sale #       Species        Units Product                                   \n",
      "63-001-04-01 B. T. Aspen    Cords Pulpwood      0.000000               0.0  \n",
      "                            MBF   Sawlogs       0.000000               0.0  \n",
      "             Mixed Oak      Cords Pulpwood    143.882998               0.0  \n",
      "                            MBF   Sawlogs    1267.346055               0.0  \n",
      "             Q. Aspen       Cords Pulpwood      0.000000               0.0  \n",
      "...                                                  ...               ...  \n",
      "63-911-12-01 B. T. Aspen    MBF   Sawlogs   12361.354943               0.0  \n",
      "             Mixed Hardwood Cords Pulpwood      0.000000               0.0  \n",
      "                            MBF   Sawlogs       0.000000               0.0  \n",
      "             Red Maple      Cords Pulpwood   1967.118027               0.0  \n",
      "                            MBF   Sawlogs       0.000000               0.0  \n",
      "\n",
      "[1194 rows x 3 columns]\n"
     ]
    }
   ],
   "source": [
    "# determine whether the appraised value is the same across all bidders\n",
    "result  = baldwin_office.groupby(['Sale #','Species', 'Units', 'Product']).var()\n",
    "print(result)"
   ]
  },
  {
   "cell_type": "code",
   "execution_count": 20,
   "metadata": {},
   "outputs": [
    {
     "name": "stdout",
     "output_type": "stream",
     "text": [
      "       Appraised Value Per Unit                    Bidder Name  \\\n",
      "27842                    334.00                        NO BIDS   \n",
      "27843                     60.00                        NO BIDS   \n",
      "27844                    101.00                        NO BIDS   \n",
      "27845                     16.10                        NO BIDS   \n",
      "27846                    102.00                        NO BIDS   \n",
      "27847                     64.00                        NO BIDS   \n",
      "27848                     11.50                        NO BIDS   \n",
      "27849                      9.00                        NO BIDS   \n",
      "27850                      7.15                        NO BIDS   \n",
      "27851                     16.95                        NO BIDS   \n",
      "27852                      8.70                        NO BIDS   \n",
      "27853                     17.60                        NO BIDS   \n",
      "43974                    318.00   Murrey Forest Products, Inc.   \n",
      "43975                    102.00   Murrey Forest Products, Inc.   \n",
      "43976                     89.00   Murrey Forest Products, Inc.   \n",
      "43977                     10.75   Murrey Forest Products, Inc.   \n",
      "43978                     10.30   Murrey Forest Products, Inc.   \n",
      "43979                     64.00   Murrey Forest Products, Inc.   \n",
      "43980                     60.00   Murrey Forest Products, Inc.   \n",
      "43981                      9.35   Murrey Forest Products, Inc.   \n",
      "43982                      9.00   Murrey Forest Products, Inc.   \n",
      "43983                      7.15   Murrey Forest Products, Inc.   \n",
      "43984                     13.95   Murrey Forest Products, Inc.   \n",
      "43985                      5.00   Murrey Forest Products, Inc.   \n",
      "\n",
      "       Estimated Volume  \n",
      "27842              10.2  \n",
      "27843               3.6  \n",
      "27844              68.0  \n",
      "27845             477.0  \n",
      "27846              11.0  \n",
      "27847               4.3  \n",
      "27848              44.1  \n",
      "27849              26.0  \n",
      "27850              92.5  \n",
      "27851              29.0  \n",
      "27852              35.9  \n",
      "27853             115.5  \n",
      "43974              10.2  \n",
      "43975              11.0  \n",
      "43976              68.0  \n",
      "43977             115.5  \n",
      "43978             477.0  \n",
      "43979               4.3  \n",
      "43980               3.6  \n",
      "43981              44.1  \n",
      "43982              26.0  \n",
      "43983              92.5  \n",
      "43984              29.0  \n",
      "43985              35.9  \n"
     ]
    }
   ],
   "source": [
    "print(baldwin_office[baldwin_office['Sale #']=='63-004-07-01'][['Appraised Value Per Unit','Bidder Name','Estimated Volume']])"
   ]
  },
  {
   "cell_type": "code",
   "execution_count": null,
   "metadata": {},
   "outputs": [],
   "source": []
  }
 ],
 "metadata": {
  "kernelspec": {
   "display_name": "Python 3 (ipykernel)",
   "language": "python",
   "name": "python3"
  },
  "language_info": {
   "codemirror_mode": {
    "name": "ipython",
    "version": 3
   },
   "file_extension": ".py",
   "mimetype": "text/x-python",
   "name": "python",
   "nbconvert_exporter": "python",
   "pygments_lexer": "ipython3",
   "version": "3.9.7"
  }
 },
 "nbformat": 4,
 "nbformat_minor": 2
}
