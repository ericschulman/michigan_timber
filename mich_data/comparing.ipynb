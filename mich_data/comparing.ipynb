{
 "cells": [
  {
   "cell_type": "code",
   "execution_count": 21,
   "metadata": {},
   "outputs": [],
   "source": [
    "import numpy as np\n",
    "import pandas as pd\n",
    "import statsmodels.api as sm"
   ]
  },
  {
   "cell_type": "code",
   "execution_count": 59,
   "metadata": {},
   "outputs": [],
   "source": [
    "mich_bids = pd.read_csv('mich_bids.csv',index_col=0)"
   ]
  },
  {
   "cell_type": "code",
   "execution_count": 60,
   "metadata": {},
   "outputs": [],
   "source": [
    "mich_bids_panel = pd.read_csv('panel.csv',index_col=0)"
   ]
  },
  {
   "cell_type": "code",
   "execution_count": 64,
   "metadata": {},
   "outputs": [],
   "source": [
    "# Modify the dataset by filling NaNs and dropping NO BIDS\n",
    "mich_bids['Bid Per Unit'] = mich_bids['Bid Per Unit'].fillna(0)\n",
    "mich_bids = mich_bids[mich_bids['Bidder Name'] != ' NO BIDS']\n",
    "mich_bids = pd.get_dummies(mich_bids, columns=['Highest'])\n",
    "baldwin_office = pd.DataFrame(mich_bids[mich_bids['Bid Open Location'] == \"Baldwin Office\"])\n",
    "mich_bids_panel['Bid Per Unit'] = mich_bids_panel['Bid Per Unit'].fillna(0)\n",
    "mich_bids_panel = mich_bids_panel[mich_bids_panel['Bidder Name'] != ' NO BIDS']"
   ]
  },
  {
   "cell_type": "code",
   "execution_count": 65,
   "metadata": {},
   "outputs": [
    {
     "data": {
      "text/html": [
       "<table class=\"simpletable\">\n",
       "<caption>OLS Regression Results</caption>\n",
       "<tr>\n",
       "  <th>Dep. Variable:</th>      <td>Bid Per Unit</td>   <th>  R-squared (uncentered):</th>      <td>   0.797</td> \n",
       "</tr>\n",
       "<tr>\n",
       "  <th>Model:</th>                   <td>OLS</td>       <th>  Adj. R-squared (uncentered):</th> <td>   0.797</td> \n",
       "</tr>\n",
       "<tr>\n",
       "  <th>Method:</th>             <td>Least Squares</td>  <th>  F-statistic:       </th>          <td>   6140.</td> \n",
       "</tr>\n",
       "<tr>\n",
       "  <th>Date:</th>             <td>Fri, 23 Apr 2021</td> <th>  Prob (F-statistic):</th>           <td>  0.00</td>  \n",
       "</tr>\n",
       "<tr>\n",
       "  <th>Time:</th>                 <td>04:42:28</td>     <th>  Log-Likelihood:    </th>          <td> -24754.</td> \n",
       "</tr>\n",
       "<tr>\n",
       "  <th>No. Observations:</th>      <td>  4695</td>      <th>  AIC:               </th>          <td>4.951e+04</td>\n",
       "</tr>\n",
       "<tr>\n",
       "  <th>Df Residuals:</th>          <td>  4692</td>      <th>  BIC:               </th>          <td>4.953e+04</td>\n",
       "</tr>\n",
       "<tr>\n",
       "  <th>Df Model:</th>              <td>     3</td>      <th>                     </th>              <td> </td>    \n",
       "</tr>\n",
       "<tr>\n",
       "  <th>Covariance Type:</th>      <td>nonrobust</td>    <th>                     </th>              <td> </td>    \n",
       "</tr>\n",
       "</table>\n",
       "<table class=\"simpletable\">\n",
       "<tr>\n",
       "              <td></td>                <th>coef</th>     <th>std err</th>      <th>t</th>      <th>P>|t|</th>  <th>[0.025</th>    <th>0.975]</th>  \n",
       "</tr>\n",
       "<tr>\n",
       "  <th>Highest_HIGHEST</th>          <td>    5.2765</td> <td>    1.493</td> <td>    3.534</td> <td> 0.000</td> <td>    2.350</td> <td>    8.203</td>\n",
       "</tr>\n",
       "<tr>\n",
       "  <th>Estimated Volume</th>         <td>    0.0037</td> <td>    0.002</td> <td>    2.025</td> <td> 0.043</td> <td>    0.000</td> <td>    0.007</td>\n",
       "</tr>\n",
       "<tr>\n",
       "  <th>Appraised Value Per Unit</th> <td>    1.1628</td> <td>    0.009</td> <td>  126.635</td> <td> 0.000</td> <td>    1.145</td> <td>    1.181</td>\n",
       "</tr>\n",
       "</table>\n",
       "<table class=\"simpletable\">\n",
       "<tr>\n",
       "  <th>Omnibus:</th>       <td>8406.964</td> <th>  Durbin-Watson:     </th>   <td>   1.835</td>  \n",
       "</tr>\n",
       "<tr>\n",
       "  <th>Prob(Omnibus):</th>  <td> 0.000</td>  <th>  Jarque-Bera (JB):  </th> <td>12378027.909</td>\n",
       "</tr>\n",
       "<tr>\n",
       "  <th>Skew:</th>           <td>12.803</td>  <th>  Prob(JB):          </th>   <td>    0.00</td>  \n",
       "</tr>\n",
       "<tr>\n",
       "  <th>Kurtosis:</th>       <td>253.237</td> <th>  Cond. No.          </th>   <td>    850.</td>  \n",
       "</tr>\n",
       "</table><br/><br/>Warnings:<br/>[1] Standard Errors assume that the covariance matrix of the errors is correctly specified."
      ],
      "text/plain": [
       "<class 'statsmodels.iolib.summary.Summary'>\n",
       "\"\"\"\n",
       "                                 OLS Regression Results                                \n",
       "=======================================================================================\n",
       "Dep. Variable:           Bid Per Unit   R-squared (uncentered):                   0.797\n",
       "Model:                            OLS   Adj. R-squared (uncentered):              0.797\n",
       "Method:                 Least Squares   F-statistic:                              6140.\n",
       "Date:                Fri, 23 Apr 2021   Prob (F-statistic):                        0.00\n",
       "Time:                        04:42:28   Log-Likelihood:                         -24754.\n",
       "No. Observations:                4695   AIC:                                  4.951e+04\n",
       "Df Residuals:                    4692   BIC:                                  4.953e+04\n",
       "Df Model:                           3                                                  \n",
       "Covariance Type:            nonrobust                                                  \n",
       "============================================================================================\n",
       "                               coef    std err          t      P>|t|      [0.025      0.975]\n",
       "--------------------------------------------------------------------------------------------\n",
       "Highest_HIGHEST              5.2765      1.493      3.534      0.000       2.350       8.203\n",
       "Estimated Volume             0.0037      0.002      2.025      0.043       0.000       0.007\n",
       "Appraised Value Per Unit     1.1628      0.009    126.635      0.000       1.145       1.181\n",
       "==============================================================================\n",
       "Omnibus:                     8406.964   Durbin-Watson:                   1.835\n",
       "Prob(Omnibus):                  0.000   Jarque-Bera (JB):         12378027.909\n",
       "Skew:                          12.803   Prob(JB):                         0.00\n",
       "Kurtosis:                     253.237   Cond. No.                         850.\n",
       "==============================================================================\n",
       "\n",
       "Warnings:\n",
       "[1] Standard Errors assume that the covariance matrix of the errors is correctly specified.\n",
       "\"\"\""
      ]
     },
     "execution_count": 65,
     "metadata": {},
     "output_type": "execute_result"
    }
   ],
   "source": [
    "x = baldwin_office[['Highest_HIGHEST','Estimated Volume', 'Appraised Value Per Unit']].copy()\n",
    "y = baldwin_office['Bid Per Unit']\n",
    "model1 = sm.regression.linear_model.OLS(y,x).fit()\n",
    "model1.summary()"
   ]
  },
  {
   "cell_type": "code",
   "execution_count": 18,
   "metadata": {},
   "outputs": [
    {
     "data": {
      "text/html": [
       "<table class=\"simpletable\">\n",
       "<caption>OLS Regression Results</caption>\n",
       "<tr>\n",
       "  <th>Dep. Variable:</th>      <td>Bid Per Unit</td>   <th>  R-squared (uncentered):</th>      <td>   0.429</td> \n",
       "</tr>\n",
       "<tr>\n",
       "  <th>Model:</th>                   <td>OLS</td>       <th>  Adj. R-squared (uncentered):</th> <td>   0.428</td> \n",
       "</tr>\n",
       "<tr>\n",
       "  <th>Method:</th>             <td>Least Squares</td>  <th>  F-statistic:       </th>          <td>   420.6</td> \n",
       "</tr>\n",
       "<tr>\n",
       "  <th>Date:</th>             <td>Fri, 23 Apr 2021</td> <th>  Prob (F-statistic):</th>          <td>8.82e-204</td>\n",
       "</tr>\n",
       "<tr>\n",
       "  <th>Time:</th>                 <td>04:27:28</td>     <th>  Log-Likelihood:    </th>          <td> -8411.1</td> \n",
       "</tr>\n",
       "<tr>\n",
       "  <th>No. Observations:</th>      <td>  1683</td>      <th>  AIC:               </th>          <td>1.683e+04</td>\n",
       "</tr>\n",
       "<tr>\n",
       "  <th>Df Residuals:</th>          <td>  1680</td>      <th>  BIC:               </th>          <td>1.684e+04</td>\n",
       "</tr>\n",
       "<tr>\n",
       "  <th>Df Model:</th>              <td>     3</td>      <th>                     </th>              <td> </td>    \n",
       "</tr>\n",
       "<tr>\n",
       "  <th>Covariance Type:</th>      <td>nonrobust</td>    <th>                     </th>              <td> </td>    \n",
       "</tr>\n",
       "</table>\n",
       "<table class=\"simpletable\">\n",
       "<tr>\n",
       "              <td></td>                <th>coef</th>     <th>std err</th>      <th>t</th>      <th>P>|t|</th>  <th>[0.025</th>    <th>0.975]</th>  \n",
       "</tr>\n",
       "<tr>\n",
       "  <th>Highest_HIGHEST</th>          <td>   49.3838</td> <td>    3.081</td> <td>   16.029</td> <td> 0.000</td> <td>   43.341</td> <td>   55.427</td>\n",
       "</tr>\n",
       "<tr>\n",
       "  <th>Estimated Volume</th>         <td>   -0.0059</td> <td>    0.005</td> <td>   -1.290</td> <td> 0.197</td> <td>   -0.015</td> <td>    0.003</td>\n",
       "</tr>\n",
       "<tr>\n",
       "  <th>Appraised Value Per Unit</th> <td>    0.4342</td> <td>    0.020</td> <td>   22.107</td> <td> 0.000</td> <td>    0.396</td> <td>    0.473</td>\n",
       "</tr>\n",
       "</table>\n",
       "<table class=\"simpletable\">\n",
       "<tr>\n",
       "  <th>Omnibus:</th>       <td>1608.864</td> <th>  Durbin-Watson:     </th>  <td>   1.877</td> \n",
       "</tr>\n",
       "<tr>\n",
       "  <th>Prob(Omnibus):</th>  <td> 0.000</td>  <th>  Jarque-Bera (JB):  </th> <td>146492.797</td>\n",
       "</tr>\n",
       "<tr>\n",
       "  <th>Skew:</th>           <td> 4.217</td>  <th>  Prob(JB):          </th>  <td>    0.00</td> \n",
       "</tr>\n",
       "<tr>\n",
       "  <th>Kurtosis:</th>       <td>47.921</td>  <th>  Cond. No.          </th>  <td>    855.</td> \n",
       "</tr>\n",
       "</table><br/><br/>Warnings:<br/>[1] Standard Errors assume that the covariance matrix of the errors is correctly specified."
      ],
      "text/plain": [
       "<class 'statsmodels.iolib.summary.Summary'>\n",
       "\"\"\"\n",
       "                                 OLS Regression Results                                \n",
       "=======================================================================================\n",
       "Dep. Variable:           Bid Per Unit   R-squared (uncentered):                   0.429\n",
       "Model:                            OLS   Adj. R-squared (uncentered):              0.428\n",
       "Method:                 Least Squares   F-statistic:                              420.6\n",
       "Date:                Fri, 23 Apr 2021   Prob (F-statistic):                   8.82e-204\n",
       "Time:                        04:27:28   Log-Likelihood:                         -8411.1\n",
       "No. Observations:                1683   AIC:                                  1.683e+04\n",
       "Df Residuals:                    1680   BIC:                                  1.684e+04\n",
       "Df Model:                           3                                                  \n",
       "Covariance Type:            nonrobust                                                  \n",
       "============================================================================================\n",
       "                               coef    std err          t      P>|t|      [0.025      0.975]\n",
       "--------------------------------------------------------------------------------------------\n",
       "Highest_HIGHEST             49.3838      3.081     16.029      0.000      43.341      55.427\n",
       "Estimated Volume            -0.0059      0.005     -1.290      0.197      -0.015       0.003\n",
       "Appraised Value Per Unit     0.4342      0.020     22.107      0.000       0.396       0.473\n",
       "==============================================================================\n",
       "Omnibus:                     1608.864   Durbin-Watson:                   1.877\n",
       "Prob(Omnibus):                  0.000   Jarque-Bera (JB):           146492.797\n",
       "Skew:                           4.217   Prob(JB):                         0.00\n",
       "Kurtosis:                      47.921   Cond. No.                         855.\n",
       "==============================================================================\n",
       "\n",
       "Warnings:\n",
       "[1] Standard Errors assume that the covariance matrix of the errors is correctly specified.\n",
       "\"\"\""
      ]
     },
     "execution_count": 18,
     "metadata": {},
     "output_type": "execute_result"
    }
   ],
   "source": [
    "x = mich_bids_panel[['Highest_HIGHEST', 'Estimated Volume', 'Appraised Value Per Unit']].copy()\n",
    "y = mich_bids_panel['Bid Per Unit']\n",
    "model1 = sm.regression.linear_model.OLS(y,x).fit()\n",
    "model1.summary()"
   ]
  },
  {
   "cell_type": "code",
   "execution_count": null,
   "metadata": {},
   "outputs": [],
   "source": []
  }
 ],
 "metadata": {
  "kernelspec": {
   "display_name": "Python 3 (ipykernel)",
   "language": "python",
   "name": "python3"
  },
  "language_info": {
   "codemirror_mode": {
    "name": "ipython",
    "version": 3
   },
   "file_extension": ".py",
   "mimetype": "text/x-python",
   "name": "python",
   "nbconvert_exporter": "python",
   "pygments_lexer": "ipython3",
   "version": "3.9.7"
  }
 },
 "nbformat": 4,
 "nbformat_minor": 4
}
