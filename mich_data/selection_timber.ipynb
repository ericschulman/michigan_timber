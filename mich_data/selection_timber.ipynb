{
 "cells": [
  {
   "cell_type": "code",
   "execution_count": null,
   "metadata": {},
   "outputs": [],
   "source": [
    "%load_ext autoreload\n",
    "%autoreload 2\n",
    "\n",
    "import numpy as np\n",
    "import pandas as pd\n",
    "#graphing\n",
    "import matplotlib.pyplot as plt\n",
    "#stats\n",
    "import statsmodels.api as sm\n",
    "from statsmodels.base.model import GenericLikelihoodModel\n",
    "\n",
    "#import testing\n",
    "import sys\n",
    "sys.path.append(\"../\")\n",
    "import selection_tests"
   ]
  },
  {
   "cell_type": "code",
   "execution_count": 3,
   "metadata": {},
   "outputs": [
    {
     "name": "stdout",
     "output_type": "stream",
     "text": [
      "        Appraised Value Per Unit Bid Open Date  Bid Open Location  \\\n",
      "0                          11.40    06/27/2012     Gaylord Office   \n",
      "1                           8.90    06/27/2012     Gaylord Office   \n",
      "2                         199.00    07/25/2012     Gaylord Office   \n",
      "3                          15.80    07/25/2012     Gaylord Office   \n",
      "4                          13.70    07/25/2012     Gaylord Office   \n",
      "...                          ...           ...                ...   \n",
      "146027                     12.35    01/05/2005  Shingleton Office   \n",
      "146028                    714.00    01/05/2005  Shingleton Office   \n",
      "146029                    198.00    01/05/2005  Shingleton Office   \n",
      "146030                     76.00    01/05/2005  Shingleton Office   \n",
      "146031                    298.00    01/05/2005  Shingleton Office   \n",
      "\n",
      "       Bid Open Time  Bid Per Unit Bid/Non-Bid Species  \\\n",
      "0            4:18 PM          12.0                 Bid   \n",
      "1            4:18 PM          10.0                 Bid   \n",
      "2            3:00 PM         205.0                 Bid   \n",
      "3            3:00 PM          15.8                 Bid   \n",
      "4            3:00 PM          13.7                 Bid   \n",
      "...              ...           ...                 ...   \n",
      "146027      10:00 AM          22.0                 Bid   \n",
      "146028      10:00 AM         714.0             Non-Bid   \n",
      "146029      10:00 AM         198.0             Non-Bid   \n",
      "146030      10:00 AM          76.0             Non-Bid   \n",
      "146031      10:00 AM         298.0             Non-Bid   \n",
      "\n",
      "                         Bidder Name  Estimated Volume  Highest No Bid Sale  \\\n",
      "0                 Precision Forestry             502.0  HIGHEST         NaN   \n",
      "1                 Precision Forestry              86.0  HIGHEST         NaN   \n",
      "2                AJD Forest Products              49.0  HIGHEST         NaN   \n",
      "3                AJD Forest Products              68.0  HIGHEST         NaN   \n",
      "4                AJD Forest Products             231.0  HIGHEST         NaN   \n",
      "...                              ...               ...      ...         ...   \n",
      "146027   WJZ & Sons Harvesting, Inc.            1098.0      NaN         NaN   \n",
      "146028   WJZ & Sons Harvesting, Inc.               3.1      NaN         NaN   \n",
      "146029   WJZ & Sons Harvesting, Inc.              11.9      NaN         NaN   \n",
      "146030   WJZ & Sons Harvesting, Inc.              12.6      NaN         NaN   \n",
      "146031   WJZ & Sons Harvesting, Inc.               5.6      NaN         NaN   \n",
      "\n",
      "         Product        Sale #                      Sale Name         Species  \\\n",
      "0       Pulpwood  52-007-12-01                  SICKLY SPRUCE       W. Spruce   \n",
      "1       Pulpwood  52-007-12-01                  SICKLY SPRUCE  Mixed Hardwood   \n",
      "2        Sawlogs  52-005-11-01              CAULKINS LAKE MIX         Red Oak   \n",
      "3       Pulpwood  52-005-11-01              CAULKINS LAKE MIX       Red Maple   \n",
      "4       Pulpwood  52-005-11-01              CAULKINS LAKE MIX         Red Oak   \n",
      "...          ...           ...                            ...             ...   \n",
      "146027  Pulpwood  41-024-04-01  CREIGHTON HARDWOOD CONTRACTOR    Mix Hardwood   \n",
      "146028   Sawlogs  41-024-04-01  CREIGHTON HARDWOOD CONTRACTOR     Sugar Maple   \n",
      "146029   Sawlogs  41-024-04-01  CREIGHTON HARDWOOD CONTRACTOR    Yellow Birch   \n",
      "146030   Sawlogs  41-024-04-01  CREIGHTON HARDWOOD CONTRACTOR           Beech   \n",
      "146031   Sawlogs  41-024-04-01  CREIGHTON HARDWOOD CONTRACTOR    Black Cherry   \n",
      "\n",
      "        Units  \n",
      "0       Cords  \n",
      "1       Cords  \n",
      "2         MBF  \n",
      "3       Cords  \n",
      "4       Cords  \n",
      "...       ...  \n",
      "146027  Cords  \n",
      "146028    MBF  \n",
      "146029    MBF  \n",
      "146030    MBF  \n",
      "146031    MBF  \n",
      "\n",
      "[33132 rows x 15 columns]\n"
     ]
    }
   ],
   "source": [
    "mich_bids = pd.read_csv('mich_bids.csv',index_col=0)\n",
    "\n",
    "mich_winners = mich_bids[['Bidder Name','Highest']].groupby('Bidder Name', as_index=False).count()\n",
    "mich_winners = list(mich_winners.nlargest(15,'Highest')['Bidder Name'])\n",
    "mich_winners = '|'.join(mich_winners)\n",
    "\n",
    "mich_bids = mich_bids[ mich_bids['Bidder Name'].notnull()] #lower the number of bidder names for now...\n",
    "mich_bids = mich_bids[ mich_bids['Bidder Name'].str.contains(mich_winners)]\n",
    "\n",
    "print(mich_bids)"
   ]
  },
  {
   "cell_type": "code",
   "execution_count": 4,
   "metadata": {},
   "outputs": [
    {
     "name": "stdout",
     "output_type": "stream",
     "text": [
      "                                                Bid Per Unit\n",
      "Sale #       Bidder Name                                    \n",
      "52-007-12-01  Precision Forestry                   11.000000\n",
      "              AJD Forest Products                        NaN\n",
      "              E H Tulgestka & Sons Inc                   NaN\n",
      "              WJZ & Sons Harvesting, Inc                 NaN\n",
      "              Giguere Logging Inc                        NaN\n",
      "...                                                      ...\n",
      "41-024-04-01  Zellar Excavating Inc                      NaN\n",
      "              Packaging Corporation Of America           NaN\n",
      "             Chris Muma                                  NaN\n",
      "              Shawn Muma Logging                         NaN\n",
      "              WJZ & Sons Harvesting, Inc.         250.666667\n",
      "\n",
      "[55352 rows x 1 columns]\n"
     ]
    }
   ],
   "source": [
    "import selection_tests\n",
    "\n",
    "mich_panel = selection_tests.create_panel(mich_bids,'Sale #','Bidder Name',\n",
    "                          ['Appraised Value Per Unit','Estimated Volume'],\n",
    "                          ['Bid Per Unit'])\n",
    "\n",
    "print(mich_panel)"
   ]
  },
  {
   "cell_type": "code",
   "execution_count": null,
   "metadata": {},
   "outputs": [],
   "source": []
  }
 ],
 "metadata": {
  "kernelspec": {
   "display_name": "Python 3 (ipykernel)",
   "language": "python",
   "name": "python3"
  },
  "language_info": {
   "codemirror_mode": {
    "name": "ipython",
    "version": 3
   },
   "file_extension": ".py",
   "mimetype": "text/x-python",
   "name": "python",
   "nbconvert_exporter": "python",
   "pygments_lexer": "ipython3",
   "version": "3.9.7"
  }
 },
 "nbformat": 4,
 "nbformat_minor": 2
}
